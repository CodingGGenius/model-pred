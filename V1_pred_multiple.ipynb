{
 "cells": [
  {
   "cell_type": "code",
   "execution_count": 1,
   "id": "3b02a96a-bb28-4939-8b57-cec35a1c6ab5",
   "metadata": {},
   "outputs": [],
   "source": [
    "# !pip install tensorflow-gpu==2.3\n",
    "# !pip install sklearn\n",
    "# !pip install matplotlib"
   ]
  },
  {
   "cell_type": "code",
   "execution_count": 2,
   "id": "df266d2b-0f34-4579-80a8-398a68e652b4",
   "metadata": {},
   "outputs": [],
   "source": [
    "import numpy as np\n",
    "np_load_old = np.load\n",
    "np.load = lambda *a,**k: np_load_old(*a, allow_pickle=True, **k)\n",
    "import os\n",
    "import matplotlib.pyplot as plt"
   ]
  },
  {
   "cell_type": "code",
   "execution_count": 3,
   "id": "ed352fe7-1d49-4531-b5df-1d7b4fae3386",
   "metadata": {},
   "outputs": [],
   "source": [
    "import tensorflow\n",
    "import tensorflow as tf"
   ]
  },
  {
   "cell_type": "code",
   "execution_count": 4,
   "id": "66042040-399a-4838-a00e-8e8bda8db4ad",
   "metadata": {},
   "outputs": [
    {
     "name": "stdout",
     "output_type": "stream",
     "text": [
      "WARNING:tensorflow:From C:\\Users\\BVer\\AppData\\Local\\Temp/ipykernel_22732/337460670.py:1: is_gpu_available (from tensorflow.python.framework.test_util) is deprecated and will be removed in a future version.\n",
      "Instructions for updating:\n",
      "Use `tf.config.list_physical_devices('GPU')` instead.\n"
     ]
    },
    {
     "data": {
      "text/plain": [
       "True"
      ]
     },
     "execution_count": 4,
     "metadata": {},
     "output_type": "execute_result"
    }
   ],
   "source": [
    "tf.test.is_gpu_available()"
   ]
  },
  {
   "cell_type": "code",
   "execution_count": 5,
   "id": "287952a4-25d6-4acb-83c7-d8c5caca30eb",
   "metadata": {},
   "outputs": [],
   "source": [
    "file_dir1 = 'C:/Users/BVer/are_you_ok/preprocessing'"
   ]
  },
  {
   "cell_type": "code",
   "execution_count": 6,
   "id": "4682bd13-71a2-40d1-9865-90340d8e352a",
   "metadata": {},
   "outputs": [],
   "source": [
    "raw_data = np.load(file_dir1 + '/p_video/' + 'raw_kicking_k1.mp4_.npy')"
   ]
  },
  {
   "cell_type": "code",
   "execution_count": 7,
   "id": "407cf8fb-a2b3-45bc-b797-04013385757d",
   "metadata": {},
   "outputs": [
    {
     "data": {
      "text/plain": [
       "(47,)"
      ]
     },
     "execution_count": 7,
     "metadata": {},
     "output_type": "execute_result"
    }
   ],
   "source": [
    "raw_data.shape"
   ]
  },
  {
   "cell_type": "code",
   "execution_count": 8,
   "id": "804111ee-d934-4fc9-9c5e-fb00d447866b",
   "metadata": {},
   "outputs": [
    {
     "data": {
      "text/plain": [
       "0.0"
      ]
     },
     "execution_count": 8,
     "metadata": {},
     "output_type": "execute_result"
    }
   ],
   "source": [
    "raw_data[0][0][8]"
   ]
  },
  {
   "cell_type": "code",
   "execution_count": 9,
   "id": "31817069-3c94-4808-9901-4177ec9909e6",
   "metadata": {},
   "outputs": [
    {
     "name": "stdout",
     "output_type": "stream",
     "text": [
      "WARNING:tensorflow:Layer lstm will not use cuDNN kernel since it doesn't meet the cuDNN kernel criteria. It will use generic GPU kernel as fallback when running on GPU\n",
      "WARNING:tensorflow:Layer lstm will not use cuDNN kernel since it doesn't meet the cuDNN kernel criteria. It will use generic GPU kernel as fallback when running on GPU\n",
      "WARNING:tensorflow:Layer lstm will not use cuDNN kernel since it doesn't meet the cuDNN kernel criteria. It will use generic GPU kernel as fallback when running on GPU\n",
      "WARNING:tensorflow:Layer lstm will not use cuDNN kernel since it doesn't meet the cuDNN kernel criteria. It will use generic GPU kernel as fallback when running on GPU\n"
     ]
    }
   ],
   "source": [
    "from tensorflow.keras.models import load_model\n",
    "\n",
    "right_arm_model = load_model('./models/right_arm_model.h5')\n",
    "left_arm_model = load_model('./models/left_arm_model.h5')\n",
    "right_leg_model = load_model('./models/right_leg_model.h5')\n",
    "left_leg_model = load_model('./models/left_leg_model.h5')"
   ]
  },
  {
   "cell_type": "code",
   "execution_count": 10,
   "id": "cc5255c1-46a4-44f6-a515-e0bfd2d39f22",
   "metadata": {},
   "outputs": [],
   "source": [
    "def pred_multiple(raw_data):\n",
    "    position = []\n",
    "    last_position = []\n",
    "    detected_humans = [] #[human][index, part_seq, part_nan_count, part_action, count]\n",
    "    \n",
    "    for object_at_frame in range(len(raw_data)): #프레임 단위 반복\n",
    "        last_position += position\n",
    "        position = []\n",
    "        for object_at in range(len(raw_data[object_at_frame])): #사람 단위 반복\n",
    "            detect_state = 0\n",
    "            for detect_seq in detected_humans: #사람이 전 프레임에 있던 사람인지 확인\n",
    "                if raw_data[object_at_frame][object_at][8] == detect_seq[0]: #해당 인덱스의 사람이 존재하는지 검사\n",
    "                    detect_seq[13] = 0\n",
    "                    position.append(detect_seq[0])\n",
    "                    last_position.remove(detect_seq[0])\n",
    "                    pred_raw_part(raw_data[object_at_frame][object_at], detect_seq)\n",
    "                    detect_state = 1\n",
    "                    break\n",
    "                    \n",
    "            if detect_state == 0:\n",
    "                detected_humans.append([raw_data[object_at_frame][object_at][8], [], 0, 0, [], 0, 0, [], 0, 0, [], 0, 0, 0])\n",
    "                position.append(raw_data[object_at_frame][object_at][8])\n",
    "                pred_raw_part(raw_data[object_at_frame][object_at], detected_humans[-1])\n",
    "                \n",
    "        del_list = []         \n",
    "        for gone_position in last_position:\n",
    "            for gone_index in detected_humans:\n",
    "                if gone_index[0] == gone_position:\n",
    "                    gone_index[13] += 1\n",
    "                    if gone_index[13] > 10:\n",
    "                        del_list.append(gone_position)\n",
    "                    break\n",
    "            \n",
    "        if len(del_list) > 0:\n",
    "            for del_position in range(len(del_list)):\n",
    "                for del_index in detected_humans:\n",
    "                    if del_index[0] == del_list[del_position]:\n",
    "                        last_position.remove(del_list[del_position])\n",
    "                        detected_humans.remove(del_index)\n",
    "                        break\n",
    "                \n",
    "               "
   ]
  },
  {
   "cell_type": "code",
   "execution_count": 11,
   "id": "ab4dd4b2-c526-42ef-8ae6-6e366fb01bc6",
   "metadata": {},
   "outputs": [],
   "source": [
    "def pred_raw_part(object_n, human_seq):\n",
    "    object_n = object_n[:-1]\n",
    "    seq_length = 30\n",
    "\n",
    "    actions = ['assult', 'normal']\n",
    "    \n",
    "    nan_skip_count = 10 #오차 허용 프레임\n",
    "    \n",
    "    for process_count in range(4):\n",
    "        human_seq[process_count * 3 + 2] = take_not_nan(object_n[process_count * 2], object_n[process_count * 2 + 1], human_seq[process_count * 3 + 1], human_seq[process_count * 3 + 2])\n",
    "        \n",
    "    for process_count in range(4):\n",
    "        if human_seq[process_count * 3 + 2] == 15:\n",
    "            print(\"cleared seq\")\n",
    "            human_seq[process_count * 3 + 1] = []\n",
    "            human_seq[process_count * 3 + 3] = 0\n",
    "            \n",
    "    for process_count, model in enumerate([right_arm_model, left_arm_model, right_leg_model, left_leg_model]):\n",
    "        human_seq[process_count * 3 + 3] = pred_part(human_seq[process_count * 3 + 1], human_seq[process_count * 3 + 2], model, human_seq[process_count * 3 + 3])"
   ]
  },
  {
   "cell_type": "code",
   "execution_count": 12,
   "id": "a20957a0-6c86-4308-83f3-cfff8626a4f5",
   "metadata": {},
   "outputs": [],
   "source": [
    "def take_not_nan(key1, key2, part_seq, part_nan):\n",
    "    if not np.isnan(key1) and not np.isnan(key2):\n",
    "        part_seq.append([key1, key2])\n",
    "        return 0\n",
    "    else:\n",
    "        part_nan += 1\n",
    "        if part_nan > 10: #오차 허용 프레임\n",
    "            return 15\n",
    "        else:\n",
    "            return part_nan\n",
    "        \n",
    "def pred_part(part_seq, part_nan, part_model, part_action):\n",
    "    seq_length = 30\n",
    "    if len(part_seq) > seq_length and part_nan == 0:\n",
    "        input_data = np.expand_dims(np.array(part_seq[-seq_length:], dtype=np.float32), axis=0)\n",
    "        y_pred = part_model.predict(input_data).squeeze()\n",
    "\n",
    "        i_pred = int(np.argmax(y_pred))\n",
    "        conf = y_pred[i_pred]\n",
    "        \n",
    "#         print(conf, i_pred, part_name)\n",
    "\n",
    "        if conf > 0.5 and i_pred == 0: #신뢰도\n",
    "            part_action += 1\n",
    "            print(part_action)\n",
    "            if part_action > 2:\n",
    "                print('detect  assult ', conf)\n",
    "            return part_action\n",
    "        else:\n",
    "            return 0\n",
    "    return part_action"
   ]
  },
  {
   "cell_type": "code",
   "execution_count": 13,
   "id": "9615df62-e7a0-4927-b3b3-26717e303a02",
   "metadata": {},
   "outputs": [
    {
     "name": "stdout",
     "output_type": "stream",
     "text": [
      "took 4.172504 seconds.\n"
     ]
    }
   ],
   "source": [
    "import cv2\n",
    "t0 = cv2.getTickCount()\n",
    "pred_multiple(raw_data)\n",
    "t1 = cv2.getTickCount()\n",
    "print (\"took %f seconds.\" % ((t1-t0)/cv2.getTickFrequency()))"
   ]
  }
 ],
 "metadata": {
  "kernelspec": {
   "display_name": "Python 3 (ipykernel)",
   "language": "python",
   "name": "python3"
  },
  "language_info": {
   "codemirror_mode": {
    "name": "ipython",
    "version": 3
   },
   "file_extension": ".py",
   "mimetype": "text/x-python",
   "name": "python",
   "nbconvert_exporter": "python",
   "pygments_lexer": "ipython3",
   "version": "3.7.11"
  }
 },
 "nbformat": 4,
 "nbformat_minor": 5
}
